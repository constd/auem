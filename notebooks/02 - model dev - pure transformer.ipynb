{
 "cells": [
  {
   "cell_type": "code",
   "execution_count": null,
   "metadata": {},
   "outputs": [],
   "source": [
    "import torch\n",
    "# import sys, os\n",
    "# from dotenv import load_dotenv\n",
    "# load_dotenv()\n",
    "\n",
    "# sys.path.append(os.environ.get(\"path_to_auem\"))\n",
    "from torch.utils import tensorboard as tb\n",
    "from auem.data.datasets import DCASE2020Task1aDataset\n",
    "from torch.utils.data import DataLoader\n",
    "from auem.models.audiotransformer import SimpleTransformerEncoderClassifier\n",
    "from torch.optim import AdamW\n",
    "from torch.nn import NLLLoss\n",
    "\n",
    "\n",
    "batch_size = 16\n",
    "device = \"cuda\""
   ]
  },
  {
   "cell_type": "code",
   "execution_count": null,
   "metadata": {},
   "outputs": [],
   "source": [
    "ds = DCASE2020Task1aDataset(\n",
    "    split_df_path=\"/home/const/Projects/data/dcase2020/task1a/TAU-urban-acoustic-scenes-2020-mobile-development/evaluation_setup/fold1_train.csv\",\n",
    "    metadata_df_path=\"/home/const/Projects/data/dcase2020/task1a/TAU-urban-acoustic-scenes-2020-mobile-development/meta.csv\",\n",
    "    data_root=\"/home/const/Projects/data/dcase2020/task1a/TAU-urban-acoustic-scenes-2020-mobile-development/\",\n",
    ")\n",
    "\n",
    "train_size = int(0.8 * len(ds))\n",
    "valid_size = len(ds) - train_size\n",
    "train_ds, valid_ds = torch.utils.data.random_split(ds, [train_size, valid_size])\n",
    "\n",
    "dl_train = DataLoader(train_ds, batch_size=batch_size)\n",
    "dl_valid = DataLoader(valid_ds, batch_size=bzatch_size)\n",
    "model = SimpleTransformerEncoderClassifier(128, 10, \"log_softmax\").to(device)"
   ]
  },
  {
   "cell_type": "code",
   "execution_count": null,
   "metadata": {},
   "outputs": [],
   "source": [
    "# # model = Transformer(d_model=128).to(device)\n",
    "# class TC(Module):\n",
    "#     def __init__(self):\n",
    "#         super(TC, self).__init__()\n",
    "#         self.transformer = Transformer(d_model=128,\n",
    "#                                        nhead=8,\n",
    "#                                        num_encoder_layers=1,\n",
    "#                                        num_decoder_layers=1,\n",
    "#                                        dim_feedforward=2048,\n",
    "#                                        dropout=.2,\n",
    "#                                        activation='gelu')\n",
    "#         self.linear = Linear(128, 10)\n",
    "\n",
    "#     def forward(self, x):\n",
    "#         out = self.transformer(x, x)\n",
    "#         out = self.linear(out[:, 0])\n",
    "#         return softmax(out)\n",
    "\n",
    "# # model = TC().to(device)"
   ]
  },
  {
   "cell_type": "code",
   "execution_count": null,
   "metadata": {},
   "outputs": [],
   "source": [
    "optimizer = AdamW(model.parameters(), lr=0.1, amsgrad=True)\n",
    "criterion = NLLLoss()"
   ]
  },
  {
   "cell_type": "code",
   "execution_count": null,
   "metadata": {},
   "outputs": [],
   "source": [
    "x = iter(dl_train).next()[\"X\"].permute(0, 1, 3, 2).squeeze().to(\"cuda\")"
   ]
  },
  {
   "cell_type": "code",
   "execution_count": null,
   "metadata": {},
   "outputs": [],
   "source": [
    "x.permute(1, 0, 2).shape"
   ]
  },
  {
   "cell_type": "code",
   "execution_count": null,
   "metadata": {},
   "outputs": [],
   "source": [
    "writer = tb.SummaryWriter()\n",
    "writer.add_graph(model, x, verbose=False)"
   ]
  },
  {
   "cell_type": "code",
   "execution_count": null,
   "metadata": {},
   "outputs": [],
   "source": [
    "# model(x.permute(1,0,2))"
   ]
  },
  {
   "cell_type": "code",
   "execution_count": null,
   "metadata": {},
   "outputs": [],
   "source": [
    "writer.flush()\n",
    "# writer.close()"
   ]
  },
  {
   "cell_type": "code",
   "execution_count": null,
   "metadata": {},
   "outputs": [],
   "source": [
    "# src = torch.rand((10, 32, 512))\n",
    "# tgt = torch.rand((20, 32, 512))\n",
    "# out = model(x, x)"
   ]
  },
  {
   "cell_type": "code",
   "execution_count": null,
   "metadata": {},
   "outputs": [],
   "source": [
    "step = 0\n",
    "for epoch in range(4):\n",
    "    print(f\"epoch {epoch}\")\n",
    "    model.train()\n",
    "    #     for batch_num, batch in tqdm(enumerate(dl_train), total=ceil(len(dl_train)/batch_size), desc=\"Batch\"):\n",
    "    for batch_num, batch in enumerate(dl_train):\n",
    "        X, y = (\n",
    "            batch[\"X\"].permute(1, 0, 3, 2).squeeze().to(device),\n",
    "            batch[\"label\"].to(device),\n",
    "        )\n",
    "        optimizer.zero_grad()\n",
    "        output = model(X)\n",
    "        loss = criterion(output, y)\n",
    "        loss.backward()\n",
    "        optimizer.step()\n",
    "        step += 1\n",
    "        writer.add_scalar(\n",
    "            \"accuracy\",\n",
    "            (y == output.argmax(dim=1)).float().mean().detach().to(\"cpu\"),\n",
    "            global_step=step,\n",
    "        )\n",
    "        writer.add_scalar(\"loss\", loss.item(), global_step=step)\n",
    "# writer.add_embedding(output.to(\"cpu\"), metadata=y.tolist(), global_step=batch_num)#, label_img=batch['X'])\n",
    "# writer.add_image('epoch/5', batch['X'], global_step=batch_num, dataformats='NCHW')"
   ]
  },
  {
   "cell_type": "code",
   "execution_count": null,
   "metadata": {},
   "outputs": [],
   "source": [
    "output.argmax(dim=1), y"
   ]
  },
  {
   "cell_type": "code",
   "execution_count": null,
   "metadata": {},
   "outputs": [],
   "source": [
    "# x = iter(dl_train).next()['X'].to('cuda')\n",
    "%pylab inline\n",
    "imshow(pos_enc, aspect=\"auto\", interpolation=\"none\")"
   ]
  },
  {
   "cell_type": "code",
   "execution_count": null,
   "metadata": {},
   "outputs": [],
   "source": [
    "writer.flush()"
   ]
  },
  {
   "cell_type": "code",
   "execution_count": null,
   "metadata": {},
   "outputs": [],
   "source": [
    "writer.close()"
   ]
  },
  {
   "cell_type": "code",
   "execution_count": null,
   "metadata": {},
   "outputs": [],
   "source": [
    "# pip install --upgrade ipywidgets\n",
    "!jupyter nbextension enable --py widgetsnbextension"
   ]
  },
  {
   "cell_type": "code",
   "execution_count": null,
   "metadata": {},
   "outputs": [],
   "source": [
    "# pip install jp_proxy_widget"
   ]
  },
  {
   "cell_type": "code",
   "execution_count": null,
   "metadata": {},
   "outputs": [],
   "source": [
    "from ipywidgets import GridspecLayout, Button, Layout\n",
    "import jp_proxy_widget\n",
    "\n",
    "widget = jp_proxy_widget.JSProxyWidget(layout=Layout(grid_area=\"widget012\"))\n",
    "\n",
    "js = \"https://unpkg.com/wavesurfer.js\"\n",
    "js2 = \"https://unpkg.com/wavesurfer.js/dist/plugin/wavesurfer.spectrogram.min.js\"\n",
    "url = \"https://ia902606.us.archive.org/35/items/shortpoetry_047_librivox/song_cjrg_teasdale_64kb.mp3\"\n",
    "\n",
    "widget.load_js_files([js, js2])\n",
    "\n",
    "widget.js_init(\n",
    "    \"\"\"\n",
    "element.empty();\n",
    "\n",
    "element.wavesurfer = WaveSurfer.create({\n",
    "    container: element[0],\n",
    "    waveColor: 'violet',\n",
    "        progressColor: 'purple',\n",
    "        loaderColor: 'purple',\n",
    "        cursorColor: 'white',\n",
    "        minPxPerSec: 100,\n",
    "        scrollParent: true,\n",
    "        plugins: [\n",
    "        WaveSurfer.spectrogram.create({\n",
    "            wavesurfer: element.wavesurfer,\n",
    "            container: element[0],\n",
    "            fftSamples:256,\n",
    "            colorMap:[[0,0,0,1],[0.011764705882352941,0,0,1],[0.023529411764705882,0,0,1],[0.03529411764705882,0,0,1],[0.047058823529411764,0,0,1],[0.058823529411764705,0,0,1],[0.07058823529411765,0,0,1],[0.08235294117647059,0,0,1],[0.09411764705882353,0,0,1],[0.10588235294117647,0,0,1],[0.11764705882352941,0,0,1],[0.12941176470588237,0,0,1],[0.1411764705882353,0,0,1],[0.15294117647058825,0,0,1],[0.16470588235294117,0,0,1],[0.17647058823529413,0,0,1],[0.18823529411764706,0,0,1],[0.2,0,0,1],[0.21176470588235294,0,0,1],[0.2235294117647059,0,0,1],[0.23529411764705882,0,0,1],[0.24705882352941178,0,0,1],[0.25882352941176473,0,0,1],[0.27058823529411763,0,0,1],[0.2823529411764706,0,0,1],[0.29411764705882354,0,0,1],[0.3058823529411765,0,0,1],[0.3176470588235294,0,0,1],[0.32941176470588235,0,0,1],[0.3411764705882353,0,0,1],[0.35294117647058826,0,0,1],[0.36470588235294116,0,0,1],[0.3764705882352941,0,0,1],[0.38823529411764707,0,0,1],[0.4,0,0,1],[0.4117647058823529,0,0,1],[0.4235294117647059,0,0,1],[0.43529411764705883,0,0,1],[0.4470588235294118,0,0,1],[0.4549019607843137,0,0,1],[0.4666666666666667,0,0,1],[0.47843137254901963,0,0,1],[0.49019607843137253,0,0,1],[0.5019607843137255,0,0,1],[0.5137254901960784,0,0,1],[0.5254901960784314,0,0,1],[0.5372549019607843,0,0,1],[0.5490196078431373,0,0,1],[0.5607843137254902,0,0,1],[0.5725490196078431,0,0,1],[0.5843137254901961,0,0,1],[0.596078431372549,0,0,1],[0.6078431372549019,0,0,1],[0.6196078431372549,0,0,1],[0.6313725490196078,0,0,1],[0.6431372549019608,0,0,1],[0.6549019607843137,0,0,1],[0.6666666666666666,0,0,1],[0.6784313725490196,0,0,1],[0.6901960784313725,0,0,1],[0.7019607843137254,0,0,1],[0.7137254901960784,0,0,1],[0.7254901960784313,0,0,1],[0.7372549019607844,0,0,1],[0.7490196078431373,0,0,1],[0.7607843137254902,0,0,1],[0.7725490196078432,0,0,1],[0.7843137254901961,0,0,1],[0.796078431372549,0,0,1],[0.807843137254902,0,0,1],[0.8196078431372549,0,0,1],[0.8313725490196079,0,0,1],[0.8431372549019608,0,0,1],[0.8549019607843137,0,0,1],[0.8666666666666667,0,0,1],[0.8784313725490196,0,0,1],[0.8901960784313725,0,0,1],[0.9019607843137255,0,0,1],[0.9019607843137255,0.011764705882352941,0,1],[0.9058823529411765,0.023529411764705882,0,1],[0.9058823529411765,0.03137254901960784,0,1],[0.9058823529411765,0.043137254901960784,0,1],[0.9098039215686274,0.054901960784313725,0,1],[0.9098039215686274,0.06666666666666667,0,1],[0.9098039215686274,0.07450980392156863,0,1],[0.9137254901960784,0.08627450980392157,0,1],[0.9137254901960784,0.09803921568627451,0,1],[0.9137254901960784,0.10980392156862745,0,1],[0.9176470588235294,0.11764705882352941,0,1],[0.9176470588235294,0.12941176470588237,0,1],[0.9176470588235294,0.1411764705882353,0,1],[0.9215686274509803,0.15294117647058825,0,1],[0.9215686274509803,0.1607843137254902,0,1],[0.9215686274509803,0.17254901960784313,0,1],[0.9254901960784314,0.1843137254901961,0,1],[0.9254901960784314,0.19607843137254902,0,1],[0.9254901960784314,0.20784313725490197,0,1],[0.9294117647058824,0.21568627450980393,0,1],[0.9294117647058824,0.22745098039215686,0,1],[0.9294117647058824,0.23921568627450981,0,1],[0.9333333333333333,0.25098039215686274,0,1],[0.9333333333333333,0.25882352941176473,0,1],[0.9333333333333333,0.27058823529411763,0,1],[0.9372549019607843,0.2823529411764706,0,1],[0.9372549019607843,0.29411764705882354,0,1],[0.9372549019607843,0.30196078431372547,0,1],[0.9411764705882353,0.3137254901960784,0,1],[0.9411764705882353,0.3254901960784314,0,1],[0.9411764705882353,0.33725490196078434,0,1],[0.9450980392156862,0.34509803921568627,0,1],[0.9450980392156862,0.3568627450980392,0,1],[0.9450980392156862,0.3686274509803922,0,1],[0.9490196078431372,0.3803921568627451,0,1],[0.9490196078431372,0.38823529411764707,0,1],[0.9490196078431372,0.4,0,1],[0.9529411764705882,0.4117647058823529,0,1],[0.9529411764705882,0.4235294117647059,0,1],[0.9529411764705882,0.43529411764705883,0,1],[0.9529411764705882,0.44313725490196076,0,1],[0.9568627450980393,0.4549019607843137,0,1],[0.9568627450980393,0.4666666666666667,0,1],[0.9568627450980393,0.47843137254901963,0,1],[0.9607843137254902,0.48627450980392156,0,1],[0.9607843137254902,0.4980392156862745,0,1],[0.9607843137254902,0.5098039215686274,0,1],[0.9647058823529412,0.5215686274509804,0,1],[0.9647058823529412,0.5294117647058824,0,1],[0.9647058823529412,0.5411764705882353,0,1],[0.9686274509803922,0.5529411764705883,0,1],[0.9686274509803922,0.5647058823529412,0,1],[0.9686274509803922,0.5725490196078431,0,1],[0.9725490196078431,0.5843137254901961,0,1],[0.9725490196078431,0.596078431372549,0,1],[0.9725490196078431,0.6078431372549019,0,1],[0.9764705882352941,0.6196078431372549,0,1],[0.9764705882352941,0.6274509803921569,0,1],[0.9764705882352941,0.6392156862745098,0,1],[0.9803921568627451,0.6509803921568628,0,1],[0.9803921568627451,0.6627450980392157,0,1],[0.9803921568627451,0.6705882352941176,0,1],[0.984313725490196,0.6823529411764706,0,1],[0.984313725490196,0.6941176470588235,0,1],[0.984313725490196,0.7058823529411765,0,1],[0.9882352941176471,0.7137254901960784,0,1],[0.9882352941176471,0.7254901960784313,0,1],[0.9882352941176471,0.7372549019607844,0,1],[0.9921568627450981,0.7490196078431373,0,1],[0.9921568627450981,0.7568627450980392,0,1],[0.9921568627450981,0.7686274509803922,0,1],[0.996078431372549,0.7803921568627451,0,1],[0.996078431372549,0.792156862745098,0,1],[0.996078431372549,0.8,0,1],[1,0.8117647058823529,0,1],[1,0.8235294117647058,0,1],[1,0.8235294117647058,0.011764705882352941,1],[1,0.8274509803921568,0.0196078431372549,1],[1,0.8274509803921568,0.03137254901960784,1],[1,0.8313725490196079,0.0392156862745098,1],[1,0.8313725490196079,0.050980392156862744,1],[1,0.8352941176470589,0.058823529411764705,1],[1,0.8352941176470589,0.07058823529411765,1],[1,0.8392156862745098,0.0784313725490196,1],[1,0.8392156862745098,0.09019607843137255,1],[1,0.8392156862745098,0.09803921568627451,1],[1,0.8431372549019608,0.10980392156862745,1],[1,0.8431372549019608,0.11764705882352941,1],[1,0.8470588235294118,0.12941176470588237,1],[1,0.8470588235294118,0.13725490196078433,1],[1,0.8509803921568627,0.14901960784313725,1],[1,0.8509803921568627,0.1568627450980392,1],[1,0.8549019607843137,0.16862745098039217,1],[1,0.8549019607843137,0.17647058823529413,1],[1,0.8549019607843137,0.18823529411764706,1],[1,0.8588235294117647,0.19607843137254902,1],[1,0.8588235294117647,0.20784313725490197,1],[1,0.8627450980392157,0.21568627450980393,1],[1,0.8627450980392157,0.22745098039215686,1],[1,0.8666666666666667,0.23529411764705882,1],[1,0.8666666666666667,0.24705882352941178,1],[1,0.8666666666666667,0.2549019607843137,1],[1,0.8705882352941177,0.26666666666666666,1],[1,0.8705882352941177,0.27450980392156865,1],[1,0.8745098039215686,0.28627450980392155,1],[1,0.8745098039215686,0.29411764705882354,1],[1,0.8784313725490196,0.3058823529411765,1],[1,0.8784313725490196,0.3137254901960784,1],[1,0.8823529411764706,0.3254901960784314,1],[1,0.8823529411764706,0.3333333333333333,1],[1,0.8823529411764706,0.34509803921568627,1],[1,0.8862745098039215,0.35294117647058826,1],[1,0.8862745098039215,0.36470588235294116,1],[1,0.8901960784313725,0.37254901960784315,1],[1,0.8901960784313725,0.3843137254901961,1],[1,0.8941176470588236,0.39215686274509803,1],[1,0.8941176470588236,0.403921568627451,1],[1,0.8980392156862745,0.4117647058823529,1],[1,0.8980392156862745,0.4235294117647059,1],[1,0.8980392156862745,0.43137254901960786,1],[1,0.9019607843137255,0.44313725490196076,1],[1,0.9019607843137255,0.45098039215686275,1],[1,0.9058823529411765,0.4627450980392157,1],[1,0.9058823529411765,0.47058823529411764,1],[1,0.9098039215686274,0.4823529411764706,1],[1,0.9098039215686274,0.49019607843137253,1],[1,0.9137254901960784,0.5019607843137255,1],[1,0.9137254901960784,0.5098039215686274,1],[1,0.9137254901960784,0.5215686274509804,1],[1,0.9176470588235294,0.5294117647058824,1],[1,0.9176470588235294,0.5411764705882353,1],[1,0.9215686274509803,0.5490196078431373,1],[1,0.9215686274509803,0.5607843137254902,1],[1,0.9254901960784314,0.5686274509803921,1],[1,0.9254901960784314,0.5803921568627451,1],[1,0.9254901960784314,0.5882352941176471,1],[1,0.9294117647058824,0.6,1],[1,0.9294117647058824,0.6078431372549019,1],[1,0.9333333333333333,0.6196078431372549,1],[1,0.9333333333333333,0.6274509803921569,1],[1,0.9372549019607843,0.6392156862745098,1],[1,0.9372549019607843,0.6470588235294118,1],[1,0.9411764705882353,0.6588235294117647,1],[1,0.9411764705882353,0.6666666666666666,1],[1,0.9411764705882353,0.6784313725490196,1],[1,0.9450980392156862,0.6862745098039216,1],[1,0.9450980392156862,0.6980392156862745,1],[1,0.9490196078431372,0.7058823529411765,1],[1,0.9490196078431372,0.7176470588235294,1],[1,0.9529411764705882,0.7254901960784313,1],[1,0.9529411764705882,0.7372549019607844,1],[1,0.9568627450980393,0.7450980392156863,1],[1,0.9568627450980393,0.7568627450980392,1],[1,0.9568627450980393,0.7647058823529411,1],[1,0.9607843137254902,0.7764705882352941,1],[1,0.9607843137254902,0.7843137254901961,1],[1,0.9647058823529412,0.796078431372549,1],[1,0.9647058823529412,0.803921568627451,1],[1,0.9686274509803922,0.8156862745098039,1],[1,0.9686274509803922,0.8235294117647058,1],[1,0.9725490196078431,0.8352941176470589,1],[1,0.9725490196078431,0.8431372549019608,1],[1,0.9725490196078431,0.8549019607843137,1],[1,0.9764705882352941,0.8627450980392157,1],[1,0.9764705882352941,0.8745098039215686,1],[1,0.9803921568627451,0.8823529411764706,1],[1,0.9803921568627451,0.8941176470588236,1],[1,0.984313725490196,0.9019607843137255,1],[1,0.984313725490196,0.9137254901960784,1],[1,0.984313725490196,0.9215686274509803,1],[1,0.9882352941176471,0.9333333333333333,1],[1,0.9882352941176471,0.9411764705882353,1],[1,0.9921568627450981,0.9529411764705882,1],[1,0.9921568627450981,0.9607843137254902,1],[1,0.996078431372549,0.9725490196078431,1],[1,0.996078431372549,0.9803921568627451,1],[1,1,0.9921568627450981,1],[1,1,1,1]],\n",
    "            labels: true\n",
    "        })\n",
    "    ]\n",
    "});\n",
    "\n",
    "element.wavesurfer.load(url);\n",
    "\n",
    "element.wavesurfer.on('ready', function () {\n",
    "    element.wavesurfer.pause();\n",
    "});\n",
    "\"\"\",\n",
    "    url=url,\n",
    ")\n",
    "\n",
    "widget"
   ]
  },
  {
   "cell_type": "code",
   "execution_count": null,
   "metadata": {},
   "outputs": [],
   "source": [
    "widget.element.wavesurfer.play()"
   ]
  },
  {
   "cell_type": "code",
   "execution_count": null,
   "metadata": {},
   "outputs": [],
   "source": [
    "# It would probably make sense to wire up these commands to upywidgets buttons...\n",
    "widget.element.wavesurfer.pause()\n",
    "# widget.element.wavesurfer.play(0)"
   ]
  },
  {
   "cell_type": "code",
   "execution_count": null,
   "metadata": {},
   "outputs": [],
   "source": [
    "# widget.element.wavesurfer."
   ]
  },
  {
   "cell_type": "code",
   "execution_count": null,
   "metadata": {},
   "outputs": [],
   "source": [
    "from ipywidgets import Layout\n",
    "\n",
    "grid = GridspecLayout(4, 3)\n",
    "ws = []\n",
    "for i in range(4):\n",
    "    for j in range(3):\n",
    "        widget = jp_proxy_widget.JSProxyWidget(layout=Layout(grid_area=\"widget012\"))\n",
    "\n",
    "        js = \"https://unpkg.com/wavesurfer.js\"\n",
    "        js2 = (\n",
    "            \"https://unpkg.com/wavesurfer.js/dist/plugin/wavesurfer.spectrogram.min.js\"\n",
    "        )\n",
    "        js3 = \"https://unpkg.com/wavesurfer.js/dist/plugin/wavesurfer.minimap.min.js\"\n",
    "        js4 = \"https://unpkg.com/wavesurfer.js/dist/plugin/wavesurfer.cursor.min.js\"\n",
    "        #         js5=\"https://raw.githubusercontent.com/BlaiMelendezCatalan/BAT/master/annotation_tool/js/annotator/src/wavesurfer.drawer.extended.js\"\n",
    "        url = \"https://ia902606.us.archive.org/35/items/shortpoetry_047_librivox/song_cjrg_teasdale_64kb.mp3\"\n",
    "\n",
    "        widget.load_js_files([js, js2, js3, js4])\n",
    "        #         widget.load_js_files([js, js2])\n",
    "\n",
    "        widget.js_init(\n",
    "            \"\"\"\n",
    "        \n",
    "        element.empty();\n",
    "\n",
    "        element.wavesurfer = WaveSurfer.create({\n",
    "            container: element[0],\n",
    "            waveColor: 'violet',\n",
    "                progressColor: 'purple',\n",
    "                loaderColor: 'purple',\n",
    "                cursorColor: 'white',\n",
    "                minPxPerSec: 200,\n",
    "                barHeight: 1,\n",
    "                barWidth: 1,\n",
    "                height: 100,\n",
    "                scrollParent: true,\n",
    "                plugins: [\n",
    "                WaveSurfer.minimap.create({\n",
    "                    container: element[0],\n",
    "                    waveColor: '#777',\n",
    "                    progressColor: '#222',\n",
    "                    height: 10\n",
    "                }),\n",
    "                WaveSurfer.cursor.create({\n",
    "                    showTime: true,\n",
    "                    opacity: 1,\n",
    "                    customShowTimeStyle: {\n",
    "                        'background-color': '#000',\n",
    "                        color: '#fff',\n",
    "                        padding: '2px',\n",
    "                        'font-size': '10px'\n",
    "                    }\n",
    "                })\n",
    "            ]\n",
    "        });\n",
    "\n",
    "        element.wavesurfer.load(url);\n",
    "\n",
    "        element.wavesurfer.on('ready', function () {\n",
    "            element.wavesurfer.pause();\n",
    "        });\n",
    "        \"\"\",\n",
    "            url=url,\n",
    "        )\n",
    "        grid[i, j] = widget\n",
    "        ws.append(widget)\n",
    "grid"
   ]
  },
  {
   "cell_type": "code",
   "execution_count": null,
   "metadata": {},
   "outputs": [],
   "source": [
    "for w in ws:\n",
    "    #     w.element.wavesurfer.play(random.randint(0, 4))\n",
    "    w.element.wavesurfer.pause()"
   ]
  },
  {
   "cell_type": "code",
   "execution_count": null,
   "metadata": {},
   "outputs": [],
   "source": [
    "from audiowidget.base import WaveSurferJP\n",
    "from jp_proxy_widget import watcher\n",
    "from IPython.display import display\n",
    "from ipywidgets import GridspecLayout, Layout, Box"
   ]
  },
  {
   "cell_type": "code",
   "execution_count": null,
   "metadata": {},
   "outputs": [],
   "source": [
    "watcher.watch_code()"
   ]
  },
  {
   "cell_type": "code",
   "execution_count": null,
   "metadata": {},
   "outputs": [],
   "source": [
    "ap = WaveSurferJP(layout=Layout(width=\"95%\", height=\"100%\"))\n",
    "\n",
    "playpause = Button(\n",
    "    description=\"\",\n",
    "    icon=\"fa-play\",\n",
    "    value=False,\n",
    "    disabled=False,\n",
    "    button_style=\"\",\n",
    "    layout=Layout(width=\"5%\", height=\"100%\"),\n",
    ")\n",
    "# play = Button(description='', icon='fa-play', value=False, disabled=False, button_style='', layout=Layout(width='5%', height='100%'))\n",
    "# pause = Button(description='', icon='fa-pause', value=False, disabled=False, button_style='', layout=Layout(width='5%', height='100%'))\n",
    "playpause.on_click(ap.playPause)\n",
    "# play.on_click(ap.play)\n",
    "# pause.on_click(ap.pause)"
   ]
  },
  {
   "cell_type": "code",
   "execution_count": null,
   "metadata": {},
   "outputs": [],
   "source": [
    "Box([playpause, ap])"
   ]
  },
  {
   "cell_type": "code",
   "execution_count": null,
   "metadata": {},
   "outputs": [],
   "source": [
    "grid = GridspecLayout(4, 3)\n",
    "ws = []\n",
    "for i in range(4):\n",
    "    for j in range(3):\n",
    "        ap = WaveSurferJP(layout=Layout(width=\"95%\", height=\"100%\"))\n",
    "        playpause = Button(\n",
    "            description=\"\",\n",
    "            icon=\"fa-play\",\n",
    "            value=False,\n",
    "            disabled=False,\n",
    "            button_style=\"\",\n",
    "            layout=Layout(width=\"5%\", height=\"20%\", min_width=\"30px\"),\n",
    "        )\n",
    "        playpause.on_click(ap.playPause)\n",
    "        widget = Box([playpause, ap])\n",
    "        grid[i, j] = widget\n",
    "        ws.append(ap)\n",
    "display(grid)"
   ]
  },
  {
   "cell_type": "code",
   "execution_count": null,
   "metadata": {},
   "outputs": [],
   "source": [
    "for w in ws:\n",
    "    w.playPause()"
   ]
  },
  {
   "cell_type": "code",
   "execution_count": null,
   "metadata": {},
   "outputs": [],
   "source": [
    "ap.close_all()"
   ]
  },
  {
   "cell_type": "code",
   "execution_count": null,
   "metadata": {},
   "outputs": [],
   "source": [
    "ap.playPause()"
   ]
  },
  {
   "cell_type": "code",
   "execution_count": null,
   "metadata": {},
   "outputs": [],
   "source": [
    "ap.element.wavesurfer.pause()"
   ]
  },
  {
   "cell_type": "code",
   "execution_count": null,
   "metadata": {},
   "outputs": [],
   "source": [
    "# !pip install jp_proxy_widget --upgrade"
   ]
  },
  {
   "cell_type": "code",
   "execution_count": null,
   "metadata": {},
   "outputs": [],
   "source": [
    "# !jupyter nbextension install --py --symlink --sys-prefix jp_proxy_widget\n",
    "# !jupyter nbextension enable jp_proxy_widget --py --sys-prefix"
   ]
  },
  {
   "cell_type": "code",
   "execution_count": null,
   "metadata": {},
   "outputs": [],
   "source": [
    "# !jupyter labextension install @jupyter-widgets/jupyterlab-manager\n",
    "# !jupyter labextension install jp_proxy_widget"
   ]
  }
 ],
 "metadata": {
  "kernelspec": {
   "display_name": "Python [conda env:jp38]",
   "language": "python",
   "name": "conda-env-jp38-py"
  },
  "language_info": {
   "codemirror_mode": {
    "name": "ipython",
    "version": 3
   },
   "file_extension": ".py",
   "mimetype": "text/x-python",
   "name": "python",
   "nbconvert_exporter": "python",
   "pygments_lexer": "ipython3"
  }
 },
 "nbformat": 4,
 "nbformat_minor": 4
}
