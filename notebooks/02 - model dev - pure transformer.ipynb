{
 "cells": [
  {
   "cell_type": "code",
   "execution_count": null,
   "metadata": {},
   "outputs": [],
   "source": [
    "import sys, os\n",
    "from dotenv import load_dotenv\n",
    "load_dotenv()\n",
    "\n",
    "sys.path.append(os.environ.get(\"path_to_auem\"))\n",
    "from torch.utils import tensorboard as tb\n",
    "from auem.data.datasets import DCASE2020Task1a\n",
    "from torch.utils.data import DataLoader\n",
    "from auem.models.simplenn import SimpleNN\n",
    "from torch.optim import Adam\n",
    "from torch.nn import CrossEntropyLoss\n",
    "import torch\n",
    "from torch.nn.functional import softmax\n",
    "from torch.nn import Transformer, Linear, Module\n",
    "\n",
    "\n",
    "batch_size = 32\n",
    "device = \"cuda:0\""
   ]
  },
  {
   "cell_type": "code",
   "execution_count": null,
   "metadata": {},
   "outputs": [],
   "source": [
    "ds = DCASE2020Task1a(split_df_path=\"/home/const/Projects/data/dcase2020/task1a/TAU-urban-acoustic-scenes-2020-mobile-development/evaluation_setup/fold1_train.csv\",\n",
    "                     metadata_df_path=\"/home/const/Projects/data/dcase2020/task1a/TAU-urban-acoustic-scenes-2020-mobile-development/meta.csv\",\n",
    "                     data_root=\"/home/const/Projects/data/dcase2020/task1a/TAU-urban-acoustic-scenes-2020-mobile-development/\")\n",
    "\n",
    "train_size = int(0.8 * len(ds))\n",
    "valid_size = len(ds) - train_size\n",
    "train_ds, valid_ds = torch.utils.data.random_split(ds, [train_size, valid_size])\n",
    "\n",
    "dl_train = DataLoader(train_ds, batch_size=batch_size)\n",
    "dl_valid = DataLoader(valid_ds, batch_size=batch_size)\n",
    "# model = SimpleNN(282368).to(device)"
   ]
  },
  {
   "cell_type": "code",
   "execution_count": null,
   "metadata": {},
   "outputs": [],
   "source": [
    "# model = Transformer(d_model=128).to(device)\n",
    "class TC(Module):\n",
    "    def __init__(self):\n",
    "        super(TC, self).__init__() \n",
    "        self.transformer = Transformer(d_model=128, \n",
    "                                       nhead=8,\n",
    "                                       num_encoder_layers=1,\n",
    "                                       num_decoder_layers=1,\n",
    "                                       dim_feedforward=2048,\n",
    "                                       dropout=.2,\n",
    "                                       activation='gelu')\n",
    "        self.linear = Linear(128, 10)\n",
    "\n",
    "    def forward(self, x):\n",
    "        out = self.transformer(x, x)\n",
    "        out = self.linear(out[:, 0])\n",
    "        return softmax(out)\n",
    "\n",
    "model = TC().to(device)"
   ]
  },
  {
   "cell_type": "code",
   "execution_count": null,
   "metadata": {
    "scrolled": true
   },
   "outputs": [],
   "source": [
    "optimizer = Adam(model.parameters())\n",
    "criterion = CrossEntropyLoss()"
   ]
  },
  {
   "cell_type": "code",
   "execution_count": null,
   "metadata": {},
   "outputs": [],
   "source": [
    "x = iter(dl_train).next()['X'].permute(0,1,3,2).squeeze().to('cuda')"
   ]
  },
  {
   "cell_type": "code",
   "execution_count": null,
   "metadata": {},
   "outputs": [],
   "source": [
    "\n",
    "x.shape"
   ]
  },
  {
   "cell_type": "code",
   "execution_count": null,
   "metadata": {
    "collapsed": true,
    "jupyter": {
     "outputs_hidden": true
    }
   },
   "outputs": [],
   "source": [
    "writer = tb.SummaryWriter()\n",
    "writer.add_graph(model, x, verbose=True)"
   ]
  },
  {
   "cell_type": "code",
   "execution_count": null,
   "metadata": {},
   "outputs": [],
   "source": [
    "writer.flush()\n",
    "# writer.close()"
   ]
  },
  {
   "cell_type": "code",
   "execution_count": null,
   "metadata": {},
   "outputs": [],
   "source": [
    "# src = torch.rand((10, 32, 512))\n",
    "# tgt = torch.rand((20, 32, 512))\n",
    "# out = model(x, x)"
   ]
  },
  {
   "cell_type": "code",
   "execution_count": null,
   "metadata": {},
   "outputs": [],
   "source": []
  },
  {
   "cell_type": "code",
   "execution_count": null,
   "metadata": {},
   "outputs": [],
   "source": [
    "pos_enc = torch.range(0, 2205).unsqueeze(0)\n",
    "for epoch in range(100):\n",
    "    print(f\"epoch {epoch}\")\n",
    "    model.train()\n",
    "#     for batch_num, batch in tqdm(enumerate(dl_train), total=ceil(len(dl_train)/batch_size), desc=\"Batch\"):\n",
    "    for batch_num, batch in enumerate(dl_train):\n",
    "        X, y = batch[\"X\"].permute(0,1,3,2).squeeze().to(device), batch[\"label\"].to(device)\n",
    "        X[:,:, 0] = pos_enc.repeat(X.shape[0], 1)\n",
    "        optimizer.zero_grad()\n",
    "        output = model(X)\n",
    "        loss = criterion(output, y)\n",
    "        loss.backward()\n",
    "        optimizer.step()\n",
    "        writer.add_scalar(\"loss2/TC\", loss.item(), global_step=batch_num)\n",
    "writer.add_embedding(output.to(\"cpu\"), metadata=y.tolist(), global_step=batch_num)#, label_img=batch['X'])\n",
    "        # writer.add_image('epoch/5', batch['X'], global_step=batch_num, dataformats='NCHW')"
   ]
  },
  {
   "cell_type": "code",
   "execution_count": null,
   "metadata": {},
   "outputs": [],
   "source": [
    "pos_enc = torch.range(0, 2205).unsqueeze(0).repeat(batch_size, 1)\n",
    "pos_enc.shape"
   ]
  },
  {
   "cell_type": "code",
   "execution_count": null,
   "metadata": {},
   "outputs": [],
   "source": []
  },
  {
   "cell_type": "code",
   "execution_count": null,
   "metadata": {},
   "outputs": [],
   "source": [
    "# x = iter(dl_train).next()['X'].to('cuda')\n",
    "%pylab inline\n",
    "imshow(pos_enc, aspect='auto', interpolation='none')"
   ]
  },
  {
   "cell_type": "code",
   "execution_count": null,
   "metadata": {},
   "outputs": [],
   "source": [
    "writer.flush()"
   ]
  },
  {
   "cell_type": "code",
   "execution_count": null,
   "metadata": {},
   "outputs": [],
   "source": [
    "writer.close()"
   ]
  },
  {
   "cell_type": "code",
   "execution_count": null,
   "metadata": {},
   "outputs": [],
   "source": []
  },
  {
   "cell_type": "code",
   "execution_count": null,
   "metadata": {},
   "outputs": [],
   "source": []
  },
  {
   "cell_type": "code",
   "execution_count": null,
   "metadata": {},
   "outputs": [],
   "source": []
  }
 ],
 "metadata": {
  "kernelspec": {
   "display_name": "Python [conda env:auem37]",
   "language": "python",
   "name": "conda-env-auem37-py"
  },
  "language_info": {
   "codemirror_mode": {
    "name": "ipython",
    "version": 3
   },
   "file_extension": ".py",
   "mimetype": "text/x-python",
   "name": "python",
   "nbconvert_exporter": "python",
   "pygments_lexer": "ipython3",
   "version": "3.7.6"
  }
 },
 "nbformat": 4,
 "nbformat_minor": 4
}